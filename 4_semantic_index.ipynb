{
 "cells": [
  {
   "cell_type": "markdown",
   "metadata": {},
   "source": [
    "# Semantic Index"
   ]
  },
  {
   "cell_type": "markdown",
   "metadata": {},
   "source": [
    "## loading libraries"
   ]
  },
  {
   "cell_type": "code",
   "execution_count": null,
   "metadata": {},
   "outputs": [],
   "source": [
    "from sentence_transformers import SentenceTransformer, util\n",
    "from datasets import load_dataset\n",
    "from sklearn.metrics.pairwise import cosine_similarity\n",
    "import torch\n"
   ]
  },
  {
   "cell_type": "markdown",
   "metadata": {},
   "source": [
    "## defining the dataset"
   ]
  },
  {
   "cell_type": "code",
   "execution_count": null,
   "metadata": {},
   "outputs": [],
   "source": [
    "\n",
    "\n",
    "dataset = load_dataset(\"multi_news\", split=\"test\")\n",
    "df = dataset.to_pandas().sample(2000, random_state=42)"
   ]
  },
  {
   "cell_type": "markdown",
   "metadata": {},
   "source": [
    "## Defining the model"
   ]
  },
  {
   "cell_type": "code",
   "execution_count": null,
   "metadata": {},
   "outputs": [],
   "source": [
    "model = SentenceTransformer(\"all-MiniLM-L6-v2\")\n",
    "passage_embeddings = list(model.encode(df[\"summary\"].to_list(), show_progress_bar=True))"
   ]
  },
  {
   "cell_type": "markdown",
   "metadata": {},
   "source": [
    "## Querying the embedding"
   ]
  },
  {
   "cell_type": "code",
   "execution_count": null,
   "metadata": {},
   "outputs": [],
   "source": [
    "\n",
    "query = \"Find me some articles about technology and artificial intelligence\"\n",
    "# note that this isn't simply searching for keywords, but rather semantic similarity between these words and the ones in the articles\n",
    "\n",
    "query_embedding = model.encode(query)\n",
    "\n",
    "print(query_embedding.shape)\n",
    "print(passage_embeddings[0].shape)\n",
    "# must be sure that the query embedding and passage embedding are the same shape\n",
    "\n",
    "similarities = util.cos_sim(query_embedding, passage_embeddings)\n",
    "\n",
    "top_indices = torch.topk(similarities.flatten(), 3).indices\n",
    "\n",
    "top_relevant_passages = [df.iloc[x.item()][\"summary\"][:200]+ \"...\" for x in top_indices]\n",
    "\n",
    "print(top_relevant_passages)"
   ]
  },
  {
   "cell_type": "markdown",
   "metadata": {},
   "source": [
    "## make it into a function"
   ]
  },
  {
   "cell_type": "code",
   "execution_count": null,
   "metadata": {},
   "outputs": [],
   "source": [
    "\n",
    "def find_relevant_news(query):\n",
    "    # Encode the query using the sentence transformer model\n",
    "    query_embedding = model.encode(query)\n",
    "    # Print the shape of the query embedding\n",
    "    query_embedding.shape\n",
    "\n",
    "    # Calculate the cosine similarity between the query embedding and the passage embeddings\n",
    "    similarities = util.cos_sim(query_embedding, passage_embeddings)\n",
    "\n",
    "    # Find the indices of the top 3 most similar passages\n",
    "    top_indicies = torch.topk(similarities.flatten(), 3).indices\n",
    "\n",
    "    # Get the top 3 relevant passages by slicing the summaries at 200 characters and adding an ellipsis\n",
    "    top_relevant_passages = [df.iloc[x.item()]['summary'][:200] + \"...\" for x in top_indicies]\n",
    "\n",
    "    # Return the top 3 relevant passages\n",
    "    return top_relevant_passages"
   ]
  },
  {
   "cell_type": "markdown",
   "metadata": {},
   "source": [
    "## Find relevant news for different queries"
   ]
  },
  {
   "cell_type": "code",
   "execution_count": null,
   "metadata": {},
   "outputs": [],
   "source": [
    "find_relevant_news(\"Natural disasters\")\n",
    "find_relevant_news(\"Law enforcement and police\")\n",
    "find_relevant_news(\"Politics, diplomacy and nationalism\")"
   ]
  }
 ],
 "metadata": {
  "kernelspec": {
   "display_name": "Python 3",
   "language": "python",
   "name": "python3"
  },
  "language_info": {
   "codemirror_mode": {
    "name": "ipython",
    "version": 3
   },
   "file_extension": ".py",
   "mimetype": "text/x-python",
   "name": "python",
   "nbconvert_exporter": "python",
   "pygments_lexer": "ipython3",
   "version": "3.10.8"
  }
 },
 "nbformat": 4,
 "nbformat_minor": 2
}
