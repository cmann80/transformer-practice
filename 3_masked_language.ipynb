{
 "cells": [
  {
   "cell_type": "markdown",
   "metadata": {},
   "source": [
    "# Masked Language Modeling"
   ]
  },
  {
   "cell_type": "markdown",
   "metadata": {},
   "source": [
    "## Importing the libraries"
   ]
  },
  {
   "cell_type": "code",
   "execution_count": null,
   "metadata": {},
   "outputs": [],
   "source": [
    "from transformers import AutoTokenizer, AutoModelForMaskedLM\n",
    "from scipy.special import softmax\n",
    "import numpy as np"
   ]
  },
  {
   "cell_type": "markdown",
   "metadata": {},
   "source": [
    "## Defining the model name and tokenizer"
   ]
  },
  {
   "cell_type": "code",
   "execution_count": null,
   "metadata": {},
   "outputs": [],
   "source": [
    "model_name = \"bert-base-cased\"\n",
    "tokenizer = AutoTokenizer.from_pretrained(model_name)\n",
    "model = AutoModelForMaskedLM.from_pretrained(model_name)"
   ]
  },
  {
   "cell_type": "markdown",
   "metadata": {},
   "source": [
    "## Creating the mask"
   ]
  },
  {
   "cell_type": "code",
   "execution_count": null,
   "metadata": {},
   "outputs": [],
   "source": [
    "mask = tokenizer.mask_token\n",
    "print(mask)\n",
    "\n",
    "sentence = f\"How many people can you fit inside of a {mask}?\"\n",
    "\n",
    "tokens = tokenizer.tokenize(sentence)\n",
    "\n",
    "encoded_inputs = tokenizer(sentence, return_tensors=\"pt\")\n",
    "\n",
    "outputs = model(**encoded_inputs)\n",
    "\n",
    "logits = outputs.logits.detach().numpy()[0]\n",
    "# logits are like the score that the model gives each word on its ability to fit into the mask\n",
    "print(logits.shape)\n",
    "# The first number is the number of tokens in the string (8 plus start and end), the second is the total vocabulary size of the model"
   ]
  },
  {
   "cell_type": "markdown",
   "metadata": {},
   "source": [
    "## Predict the most likely token to replace the masked token"
   ]
  },
  {
   "cell_type": "code",
   "execution_count": null,
   "metadata": {},
   "outputs": [],
   "source": [
    "mask_logits = logits[tokens.index(mask) + 1]\n",
    "confidence_scores = softmax(mask_logits)\n",
    "\n",
    "for i in np.argsort(confidence_scores)[::-1][:5]:\n",
    "    pred_token = tokenizer.decode(i)\n",
    "    score = confidence_scores[i]\n",
    "    print(sentence.replace(mask, pred_token), score)"
   ]
  },
  {
   "cell_type": "markdown",
   "metadata": {},
   "source": []
  }
 ],
 "metadata": {
  "kernelspec": {
   "display_name": "Python 3",
   "language": "python",
   "name": "python3"
  },
  "language_info": {
   "codemirror_mode": {
    "name": "ipython",
    "version": 3
   },
   "file_extension": ".py",
   "mimetype": "text/x-python",
   "name": "python",
   "nbconvert_exporter": "python",
   "pygments_lexer": "ipython3",
   "version": "3.10.8"
  }
 },
 "nbformat": 4,
 "nbformat_minor": 2
}
