{
 "cells": [
  {
   "cell_type": "markdown",
   "metadata": {},
   "source": [
    "# Extractive Question Answering using BERT"
   ]
  },
  {
   "cell_type": "markdown",
   "metadata": {},
   "source": [
    "## load the libraries"
   ]
  },
  {
   "cell_type": "code",
   "execution_count": null,
   "metadata": {},
   "outputs": [],
   "source": [
    "import torch\n",
    "from transformers import BertForQuestionAnswering, BertTokenizerFast\n",
    "from scipy.special import softmax\n",
    "import plotly.express as px\n",
    "import pandas as pd\n",
    "import numpy as np"
   ]
  },
  {
   "cell_type": "markdown",
   "metadata": {},
   "source": [
    "## Define the context and question"
   ]
  },
  {
   "cell_type": "code",
   "execution_count": null,
   "metadata": {},
   "outputs": [],
   "source": [
    "context = \"The hippopotamus pl: hippopotamuses or hippopotami), also shortened to hippo (pl: hippos; Hippopotamus amphibius), further qualified as the common hippopotamus, Nile hippopotamus, or river hippopotamus, is a large semiaquatic mammal native to sub-Saharan Africa. It is one of only two extant species in the family Hippopotamidae, the other being the pygmy hippopotamus (Choeropsis liberiensis or Hexaprotodon liberiensis). Its name comes from the ancient Greek for 'river horse' (ἱπποπόταμος). After elephants and rhinoceros, the hippopotamus is the next largest land mammal. It is also the largest extant land artiodactyl. Despite their physical resemblance to pigs and other terrestrial even-toed ungulates, the closest living relatives of the hippopotamids are cetaceans (whales, dolphins, porpoises, etc.), from which they diverged about 55 million years ago. Hippos are recognisable for their barrel-shaped torsos, wide-opening mouths with large canine tusks, nearly hairless bodies, pillar-like legs, and large size: adults average 1,500 kg (3,300 lb) for bulls (males) and 1,300 kg (2,900 lb) for cows (females). Despite its stocky shape and short legs, it is capable of running 30 km/h (19 mph) over short distances. Hippos inhabit rivers, lakes, and mangrove swamps. Territorial bulls each preside over a stretch of water and a group of five to thirty cows and calves. Mating and birth both occur in the water. During the day, hippos remain cool by staying in water or mud, emerging at dusk to graze on grasses. While hippos rest near each other in the water, grazing is a solitary activity and hippos typically do not display territorial behaviour on land. Hippos are among the most dangerous animals in the world due to their aggressive and unpredictable nature. They are threatened by habitat loss and poaching for their meat and ivory (canine teeth).\"\n",
    "question = \"How fast can hippos run?\"\n",
    "# The context limit on this model is pretty severe, only 512 tokens"
   ]
  },
  {
   "cell_type": "markdown",
   "metadata": {},
   "source": [
    "## define the model and tokenizer"
   ]
  },
  {
   "cell_type": "code",
   "execution_count": null,
   "metadata": {},
   "outputs": [],
   "source": [
    "model_name = \"deepset/bert-base-cased-squad2\"\n",
    "# This is a BERT model trained on the Stanford Question Answering Dataset (SQuAD) \n",
    "# it is a reading comprehension dataset, consisting of \n",
    "# questions posed by crowdworkers on a set of Wikipedia articles.\n",
    "\n",
    "tokenizer = BertTokenizerFast.from_pretrained(model_name)\n",
    "model = BertForQuestionAnswering.from_pretrained(model_name)"
   ]
  },
  {
   "cell_type": "markdown",
   "metadata": {},
   "source": [
    "## tokenizing the inputs"
   ]
  },
  {
   "cell_type": "code",
   "execution_count": null,
   "metadata": {},
   "outputs": [],
   "source": [
    "inputs = tokenizer.encode_plus(question, context, return_tensors=\"pt\")\n",
    "\n",
    "print(tokenizer.tokenize(context))"
   ]
  },
  {
   "cell_type": "markdown",
   "metadata": {},
   "source": [
    "## Running the model to get the start and end scores"
   ]
  },
  {
   "cell_type": "code",
   "execution_count": null,
   "metadata": {},
   "outputs": [],
   "source": [
    "with torch.no_grad():\n",
    "    outputs = model(**inputs)\n",
    "start_scores, end_scores = softmax(outputs.start_logits)[0], softmax(outputs.end_logits)[0]\n",
    "# predicts whether a particular token in the context is the start or the end of the answer\n",
    "\n",
    "scores_df = pd.DataFrame({\n",
    "    \"Token Position\": list(range(len(start_scores))) * 2,\n",
    "    \"Score\": list(start_scores) + list(end_scores),\n",
    "    \"Score Type\": [\"Start\"] * len(start_scores) + [\"End\"] * len(end_scores),\n",
    "})\n",
    "px.bar(scores_df, x=\"Token Position\", y=\"Score\", color=\"Score Type\", barmode=\"group\", title=\"Start and End Scores for Tokens\")"
   ]
  },
  {
   "cell_type": "markdown",
   "metadata": {},
   "source": [
    "## Getting the answer from the model"
   ]
  },
  {
   "cell_type": "code",
   "execution_count": null,
   "metadata": {},
   "outputs": [],
   "source": [
    "start_idx = np.argmax(start_scores)\n",
    "end_idx = np.argmax(end_scores)\n",
    "# gets the most likely start and end tokens\n",
    "answer_ids = inputs.input_ids[0][start_idx: end_idx + 1]\n",
    "answer_tokens = tokenizer.convert_ids_to_tokens(answer_ids)\n",
    "answer = tokenizer.convert_tokens_to_string(answer_tokens)\n",
    "print(answer)"
   ]
  },
  {
   "cell_type": "markdown",
   "metadata": {},
   "source": [
    "## Convert into a function"
   ]
  },
  {
   "cell_type": "code",
   "execution_count": null,
   "metadata": {},
   "outputs": [],
   "source": [
    "def predict_answer(context, question):\n",
    "    inputs = tokenizer(question, context, return_tensors=\"pt\", truncation=True, max_length=512)\n",
    "    with torch.no_grad():\n",
    "        outputs = model(**inputs)\n",
    "    start_scores, end_scores = softmax(outputs.start_logits)[0], softmax(outputs.end_logits)[0]\n",
    "    start_idx = np.argmax(start_scores)\n",
    "    end_idx = np.argmax(end_scores)\n",
    "    confidence_score = (start_scores[start_idx] + end_scores[end_idx]) /2\n",
    "    # the confidence score can be the average of the start and end scores\n",
    "    answer_ids = inputs.input_ids[0][start_idx: end_idx + 1]\n",
    "    answer_tokens = tokenizer.convert_ids_to_tokens(answer_ids)\n",
    "    answer = tokenizer.convert_tokens_to_string(answer_tokens)\n",
    "    # it needs to be able to return something if the answer is not in the context\n",
    "    # cls_token is the special token it returns if there is no answer\n",
    "    if answer != tokenizer.cls_token:\n",
    "        return answer, confidence_score\n",
    "    return None, confidence_score"
   ]
  },
  {
   "cell_type": "markdown",
   "metadata": {},
   "source": [
    "## Get a new context and question"
   ]
  },
  {
   "cell_type": "code",
   "execution_count": null,
   "metadata": {},
   "outputs": [],
   "source": [
    "context = \"Cajun cuisine (French: cuisine cadienne [kɥi.zin ka.dʒɛn], Spanish: cocina acadiense) is a style of cooking developed by the Cajun–Acadians who were deported from Acadia to Louisiana during the 18th century and who incorporated West African, French and Spanish cooking techniques into their original cuisine. Cajun cuisine is sometimes referred to as a 'rustic cuisine', meaning that it is based on locally available ingredients and that preparation is relatively simple. An authentic Cajun meal is usually a three-pot affair, with one pot dedicated to the main dish, one dedicated to steamed rice, specially made sausages, or some seafood dish, and the third containing whatever vegetable is plentiful or available. Crawfish, shrimp, and andouille sausage are staple meats used in a variety of dishes. The aromatic vegetables green bell pepper (piment doux), onion, and celery are called 'the trinity' by chefs in Cajun and Louisiana Creole cuisines. Roughly diced and combined in cooking, the method is similar to the use of the mirepoix in traditional French cuisine which blends roughly diced carrot, onion, and celery. Additional characteristic aromatics for both the Creole and Cajun versions may include parsley, bay leaf, thyme, green onions, ground cayenne pepper, and ground black pepper. Cayenne and Louisiana-style hot sauce are the primary sources of spice in Cajun cuisine, which usually tends towards a moderate, well-balanced heat, despite the national 'Cajun hot' craze of the 1980s and 1990s.[1]\"\n",
    "\n",
    "\n",
    "print(predict_answer(context, \"what is Cajun cuisine?\"))\n",
    "# This one is easy to answer with high confidence\n",
    "print(predict_answer(context, \"What is one of the 'tranity'? of Cajun cuisine?\"))\n",
    "# this one has a typo and thus it can answer but with lower confidence\n",
    "print(predict_answer(context, \"what is Indian cuisine?\"))\n",
    "# this one has no answer in the context"
   ]
  },
  {
   "cell_type": "markdown",
   "metadata": {},
   "source": [
    "## splitting the context into sentences to overcome the 512 token context limit"
   ]
  },
  {
   "cell_type": "code",
   "execution_count": null,
   "metadata": {},
   "outputs": [],
   "source": [
    "sentences = context.split(\"\\n\")\n",
    "\n",
    "def chunk_sentences(sentences, chunk_size, stride):\n",
    "    chunks = []\n",
    "    num_sentences = len(sentences)\n",
    "    for i in range(0, num_sentences, chunk_size - stride):\n",
    "        chunk = sentences[i: i + chunk_size]\n",
    "        chunks.append(chunk)\n",
    "    return chunks\n",
    "# the \"stride\" variable ensures that there is some overlap between the chunks, so context is not lost"
   ]
  },
  {
   "cell_type": "markdown",
   "metadata": {},
   "source": [
    "## Inputting a new, longer context"
   ]
  },
  {
   "cell_type": "code",
   "execution_count": null,
   "metadata": {},
   "outputs": [],
   "source": [
    "context = \"\"\"From Wikipedia, the free encyclopedia\n",
    "Part of a series on\n",
    "American cuisine\n",
    "\n",
    "Regional cuisines\n",
    "History\n",
    "Ingredients and foods\n",
    "Styles\n",
    "Ethnic and cultural\n",
    "Holidays and festivals\n",
    "flag United States portalicon Food portal\n",
    "vte\n",
    "\n",
    "Cornbread is a staple Cajun starch.\n",
    "Cajun cuisine (French: cuisine cadienne [kɥi.zin ka.dʒɛn], Spanish: cocina acadiense) is a style of cooking developed by the Cajun–Acadians who were deported from Acadia to Louisiana during the 18th century and who incorporated West African, French and Spanish cooking techniques into their original cuisine.\n",
    "\n",
    "Cajun cuisine is sometimes referred to as a 'rustic cuisine', meaning that it is based on locally available ingredients and that preparation is relatively simple.\n",
    "\n",
    "An authentic Cajun meal is usually a three-pot affair, with one pot dedicated to the main dish, one dedicated to steamed rice, specially made sausages, or some seafood dish, and the third containing whatever vegetable is plentiful or available. Crawfish, shrimp, and andouille sausage are staple meats used in a variety of dishes.\n",
    "\n",
    "The aromatic vegetables green bell pepper (piment doux), onion, and celery are called \"the trinity\" by chefs in Cajun and Louisiana Creole cuisines. Roughly diced and combined in cooking, the method is similar to the use of the mirepoix in traditional French cuisine which blends roughly diced carrot, onion, and celery. Additional characteristic aromatics for both the Creole and Cajun versions may include parsley, bay leaf, thyme, green onions, ground cayenne pepper, and ground black pepper. Cayenne and Louisiana-style hot sauce are the primary sources of spice in Cajun cuisine, which usually tends towards a moderate, well-balanced heat, despite the national \"Cajun hot\" craze of the 1980s and 1990s.[1]\n",
    "\n",
    "History\n",
    "The Acadians were a group of French colonists who lived in Acadia, what is today Eastern Canada. In the mid-18th century, they were deported from Acadia by the British during the French and Indian War in what they termed le Grand Dérangement, and many of them ended up settling in Southern Louisiana.[2]: 6 \n",
    "\n",
    "Due to the extreme change in climate, Acadians were unable to cook their original dishes.[3]: 20  Soon, their former culinary traditions were adapted and, in time, incorporated not only Indigenous American traditions, but also African-American traditions—as is exemplified in the classic Cajun dish \"Gumbo\", which is named for its principal ingredient (Okra) using the West African name for that very ingredient: \"Gumbo,\" in West Africa, means \"Okra\".\n",
    "\n",
    "Many other meals developed along these lines, adapted in no small part from Haiti, to become what is now considered classic Cajun cuisine traditions [3]: 19–20  (not to be confused with the more modern concept associated with Prudhomme's style).[4]\n",
    "\n",
    "Up through the 20th century, the meals were not elaborate but instead, rather basic.[3]: 23  The public's false perception of \"Cajun\" cuisine was based on Prudhomme's style of Cajun cooking, which was spicy, flavorful, and not true to the classic form of the cuisine.[4]\n",
    "\n",
    "Cajun and Creole cuisine have been mistaken to be the same, but the origins of Creole cooking began in New Orleans, and Cajun cooking came 40 years after the establishment of New Orleans.[5] Today, most restaurants serve dishes that consist of Cajun styles, which Paul Prudhomme dubbed \"Louisiana cooking\".[6] In home-cooking, these individual styles are still kept separate.[6] However, there are fewer and fewer people cooking the classic Cajun dishes that would have been eaten by the original settlers.[3]: 30 \n",
    "\n",
    "Cajun cooking methods\n",
    "Barbecuing—similar to \"low and slow\" Southern barbecue traditions, but with Creole/Cajun seasoning. A classic example is Johnson's Boucaniere (\"smokehouse\") in Lafayette, which was named best barbecue in Louisiana by the Food Network in July 2022.[7] In the Ville Platte area, a unique sauce is made from dried onions reconstituted in water and vegetable oil thick with ketchup, mustard, Worcestershire sauce, and seasonings.[8] The flavorful oil that rises to the top is applied directly to meats being cooked as a baste. Two popular brands are Jack Miller's and Pig Stand, which are available online and in grocery stores across the state.[9][10] This sauce is also commonly used on hamburgers, hot dogs, pork chops, chicken, and other grilled items.\n",
    "Baking—direct and indirect dry heat in a furnace or oven, faster than smoking but slower than grilling\n",
    "Grilling—direct heat on a shallow surface, fastest of all variants; sub-variants include:\n",
    "Charbroiling—direct dry heat on a solid surface with wide raised ridges\n",
    "Gridironing—direct dry heat on a solid or hollow surface with narrow raised ridges\n",
    "Griddling—direct dry or moist heat along with the use of oils and butter on a flat surface\n",
    "Braising—combining a direct dry heat charbroil-grill or gridiron-grill with a pot filled with broth for direct moist heat, faster than smoking but slower than regular grilling and baking; time starts fast, slows down, then speeds up again to finish\n",
    "Boiling—as in boiling of crabs, crawfish, or shrimp, in seasoned liquid, often with side items like corn on the cob, whole new potatoes, and mushrooms cooked in the same boiling pot. A seafood boil is often a large outdoor social event.\n",
    "Deep frying—lightly breaded and fried seafood including various fish, shrimp, oysters, and soft-shell crab is universally popular in Cajun cuisine, often on French bread po-boys in the New Orleans style, along with traditional Southern favorites like fried chicken, fried okra, and pork chops.\n",
    "Smothering—cooking a vegetable or meat over low heat with the sauteed \"trinity,\" plus small amounts of water or stock, similar to braising. This forms a pan sauce or gravy, and the finished product is served over rice. Étouffée is a popular variant done with crawfish or shrimp. A meatless version might feature mushrooms and eggplant.[11] Two commonly smothered meats are pork chops and round steak; these heartier meats may sometimes have a bit of roux added to the gravy.[12][13]\n",
    "Pan-broiling or pan-frying\n",
    "Injecting—using a large syringe-type setup to place seasoning deep inside large cuts of meat; this technique is much newer than the others on this list, but very common in Cajun cuisine\n",
    "Stewing, also known as fricassée; a whole chicken cut into pieces is a popular choice for this method, particularly an older hen.[14]\n",
    "Deep-frying of turkeys or oven-roasted turduckens entered southern Louisiana cuisine more recently. Also, blackening of fish or chicken and barbecuing of shrimp in the shell are excluded because they were not prepared in traditional Cajun cuisine. Blackening was actually an invention by chef Paul Prudhomme in the 1970s, becoming associated with Cajun cooking, and presented as such by him, but is not a true historical or traditional Cajun cooking process.[15]\"\"\""
   ]
  },
  {
   "cell_type": "markdown",
   "metadata": {},
   "source": [
    "## Running the function and then asking each chunk the question"
   ]
  },
  {
   "cell_type": "code",
   "execution_count": null,
   "metadata": {},
   "outputs": [],
   "source": [
    "chunked_sentences = chunk_sentences(sentences, chunk_size=3, stride=1)\n",
    "\n",
    "\n",
    "questions = [\"What is Cajun cooking?\", \"What are the most common Cajun foods?\", \"How can I make jambalaya?\", \"where did Cajun food come from?\"]\n",
    "\n",
    "answers = {}\n",
    "\n",
    "for chunk in chunked_sentences:\n",
    "    context = \"\\n\".join(chunk)\n",
    "    for question in questions:\n",
    "        answer, score = predict_answer(context, question)\n",
    "\n",
    "        if answer:\n",
    "            if question not in answers:\n",
    "                answers[question] = (answer, score)\n",
    "            else:\n",
    "                if score > answers[question][1]:\n",
    "                    answers[question] = (answer, score)\n",
    "                    \n",
    "print(answers)"
   ]
  },
  {
   "cell_type": "markdown",
   "metadata": {},
   "source": []
  }
 ],
 "metadata": {
  "kernelspec": {
   "display_name": "Python 3",
   "language": "python",
   "name": "python3"
  },
  "language_info": {
   "codemirror_mode": {
    "name": "ipython",
    "version": 3
   },
   "file_extension": ".py",
   "mimetype": "text/x-python",
   "name": "python",
   "nbconvert_exporter": "python",
   "pygments_lexer": "ipython3",
   "version": "3.10.8"
  }
 },
 "nbformat": 4,
 "nbformat_minor": 2
}
